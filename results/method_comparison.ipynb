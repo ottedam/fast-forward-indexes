{
 "cells": [
  {
   "cell_type": "code",
   "execution_count": 1,
   "metadata": {},
   "outputs": [
    {
     "name": "stderr",
     "output_type": "stream",
     "text": [
      "c:\\Users\\Revi\\.conda\\envs\\custom_fast_forward\\lib\\site-packages\\scipy\\__init__.py:173: UserWarning: A NumPy version >=1.19.5 and <1.27.0 is required for this version of SciPy (detected version 1.19.2)\n",
      "  warnings.warn(f\"A NumPy version >={np_minversion} and <{np_maxversion}\"\n",
      "c:\\Users\\Revi\\.conda\\envs\\custom_fast_forward\\lib\\site-packages\\tqdm\\auto.py:21: TqdmWarning: IProgress not found. Please update jupyter and ipywidgets. See https://ipywidgets.readthedocs.io/en/stable/user_install.html\n",
      "  from .autonotebook import tqdm as notebook_tqdm\n"
     ]
    }
   ],
   "source": [
    "import csv\n",
    "from pathlib import Path\n",
    "from fast_forward.ranking import Ranking\n",
    "from fast_forward.index import InMemoryIndex\n",
    "from fast_forward.encoder import TCTColBERTQueryEncoder as TCTColBERTQueryEncoderFF\n",
    "from ir_measures import read_trec_qrels, calc_aggregate, nDCG, RR, R, AP, P\n",
    "from numpy import arange\n",
    "import csv"
   ]
  },
  {
   "cell_type": "code",
   "execution_count": 2,
   "metadata": {},
   "outputs": [
    {
     "name": "stderr",
     "output_type": "stream",
     "text": [
      "Some weights of the model checkpoint at castorini/tct_colbert-msmarco were not used when initializing BertModel: ['cls.seq_relationship.bias', 'cls.predictions.bias', 'cls.predictions.decoder.weight', 'cls.predictions.transform.LayerNorm.weight', 'cls.predictions.transform.dense.bias', 'cls.predictions.transform.LayerNorm.bias', 'cls.seq_relationship.weight', 'cls.predictions.transform.dense.weight', 'cls.predictions.decoder.bias']\n",
      "- This IS expected if you are initializing BertModel from the checkpoint of a model trained on another task or with another architecture (e.g. initializing a BertForSequenceClassification model from a BertForPreTraining model).\n",
      "- This IS NOT expected if you are initializing BertModel from the checkpoint of a model that you expect to be exactly identical (initializing a BertForSequenceClassification model from a BertForSequenceClassification model).\n"
     ]
    }
   ],
   "source": [
    "sparse_ranking_2019 = Ranking.from_file(Path(\"../index/dev/testing/msmarco-passage-test2019-sparse10000.txt\"))\n",
    "sparse_ranking_2019.cut(5000)\n",
    "sparse_ranking_2020 = Ranking.from_file(Path(\"../index/dev/testing/msmarco-passage-test2020-sparse10000.txt\"))\n",
    "sparse_ranking_2020.cut(5000)\n",
    "\n",
    "index = InMemoryIndex.from_disk(\"../index/dev/testing/ffindex_passage_2019_2020.pkl\",encoder=TCTColBERTQueryEncoderFF(\"castorini/tct_colbert-msmarco\"))"
   ]
  },
  {
   "cell_type": "code",
   "execution_count": 5,
   "metadata": {},
   "outputs": [
    {
     "name": "stdout",
     "output_type": "stream",
     "text": [
      "loaded 200 queries\n",
      "custom FFI version\n"
     ]
    },
    {
     "name": "stderr",
     "output_type": "stream",
     "text": [
      "100%|██████████| 43/43 [00:00<00:00, 56.82it/s]\n"
     ]
    },
    {
     "name": "stdout",
     "output_type": "stream",
     "text": [
      "w:  0.0\n",
      "w:  0.05\n",
      "w:  0.1\n",
      "w:  0.15000000000000002\n",
      "w:  0.2\n",
      "w:  0.25\n",
      "w:  0.30000000000000004\n",
      "w:  0.35000000000000003\n",
      "w:  0.4\n",
      "w:  0.45\n",
      "w:  0.5\n",
      "w:  0.55\n",
      "w:  0.6000000000000001\n",
      "w:  0.65\n",
      "w:  0.7000000000000001\n",
      "w:  0.75\n",
      "w:  0.8\n",
      "w:  0.8500000000000001\n",
      "w:  0.9\n",
      "w:  0.9500000000000001\n",
      "w:  1.0\n",
      "custom FFI version\n"
     ]
    },
    {
     "name": "stderr",
     "output_type": "stream",
     "text": [
      "100%|██████████| 43/43 [00:00<00:00, 60.50it/s]\n"
     ]
    },
    {
     "name": "stdout",
     "output_type": "stream",
     "text": [
      "w:  5\n",
      "w:  10\n",
      "w:  15\n",
      "w:  20\n",
      "w:  25\n",
      "w:  30\n",
      "w:  35\n",
      "w:  40\n",
      "w:  45\n",
      "w:  50\n",
      "w:  55\n",
      "w:  60\n",
      "w:  65\n",
      "w:  70\n",
      "w:  75\n",
      "w:  80\n",
      "w:  85\n",
      "w:  90\n",
      "w:  95\n",
      "w:  100\n",
      "w:  105\n"
     ]
    }
   ],
   "source": [
    "with open(\n",
    "    \"../index/dev/testing/msmarco-test2019-queries.tsv\",\n",
    "    encoding=\"utf-8\",\n",
    "    newline=\"\"\n",
    ") as fp:\n",
    "    queries = {q_id: q for q_id, q in csv.reader(fp, delimiter=\"\\t\")}\n",
    "print(f\"loaded {len(queries)} queries\")\n",
    "\n",
    "alpha = arange(0,1.01,0.05)\n",
    "eta = range(5,106,5)\n",
    "result_cc = index.get_scores(\n",
    "    sparse_ranking_2019,\n",
    "    queries,\n",
    "    method = \"CC\",\n",
    "    alpha = alpha,\n",
    "    cutoff=10,\n",
    "    early_stopping=False\n",
    ")\n",
    "result_rrf = index.get_scores(\n",
    "    sparse_ranking_2019,\n",
    "    queries,\n",
    "    method = \"RRF\",\n",
    "    eta = eta,\n",
    "    cutoff=10,\n",
    "    early_stopping=False\n",
    ")"
   ]
  },
  {
   "cell_type": "code",
   "execution_count": 48,
   "metadata": {},
   "outputs": [],
   "source": [
    "qrels = list(read_trec_qrels(\"../index/dev/testing/2019qrels-pass.txt\"))\n",
    "with open(r'2019_test_results.csv','a') as f1: # need \"a\" and not w to append to a file, if not will overwrite\n",
    "    writer=csv.writer(f1, delimiter=',',lineterminator='\\n',)\n",
    "    row = [\"fusion_function\",\"dataset\",\"alpha\",\"R@10\",\"AP@10\",\"P@10\",\"nDCG@10\",\"RR(rel=2)@10\"]\n",
    "    writer.writerow(row)\n",
    "    for a in alpha:\n",
    "        f = calc_aggregate([R@10,AP@10,P@10,nDCG@10, RR(rel=2)@10], qrels, result_cc[a].run)\n",
    "        row = [\"CC\",\"test2019\",a,f[R@10],f[AP@10],f[P@10],f[nDCG@10],f[RR(rel=2)@10]]\n",
    "        writer.writerow(row)\n",
    "\n",
    "with open(r'2019_test_results.csv','a') as f1: # need \"a\" and not w to append to a file, if not will overwrite\n",
    "    writer=csv.writer(f1, delimiter=',',lineterminator='\\n',)\n",
    "    for n in eta:\n",
    "        f = calc_aggregate([R@10,AP@10,P@10,nDCG@10, RR(rel=2)@10], qrels, result_rrf[n].run)\n",
    "        row = [\"RRF\",\"test2019\",n,f[R@10],f[AP@10],f[P@10],f[nDCG@10],f[RR(rel=2)@10]]\n",
    "        writer.writerow(row)"
   ]
  }
 ],
 "metadata": {
  "kernelspec": {
   "display_name": "custom_fast_forward",
   "language": "python",
   "name": "python3"
  },
  "language_info": {
   "codemirror_mode": {
    "name": "ipython",
    "version": 3
   },
   "file_extension": ".py",
   "mimetype": "text/x-python",
   "name": "python",
   "nbconvert_exporter": "python",
   "pygments_lexer": "ipython3",
   "version": "3.8.16"
  },
  "orig_nbformat": 4
 },
 "nbformat": 4,
 "nbformat_minor": 2
}

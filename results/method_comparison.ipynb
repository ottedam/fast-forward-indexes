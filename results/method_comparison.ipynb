{
 "cells": [
  {
   "cell_type": "code",
   "execution_count": 15,
   "metadata": {},
   "outputs": [],
   "source": [
    "import csv\n",
    "from pathlib import Path\n",
    "from fast_forward.ranking import Ranking\n",
    "from fast_forward.index import InMemoryIndex\n",
    "from fast_forward.encoder import TCTColBERTQueryEncoder as TCTColBERTQueryEncoderFF\n",
    "from ir_measures import read_trec_qrels, calc_aggregate, nDCG, RR, R, AP, P\n",
    "from numpy import arange\n",
    "import csv"
   ]
  },
  {
   "cell_type": "code",
   "execution_count": 16,
   "metadata": {},
   "outputs": [
    {
     "name": "stderr",
     "output_type": "stream",
     "text": [
      "Some weights of the model checkpoint at castorini/tct_colbert-msmarco were not used when initializing BertModel: ['cls.predictions.transform.dense.bias', 'cls.predictions.decoder.bias', 'cls.predictions.transform.LayerNorm.bias', 'cls.predictions.transform.dense.weight', 'cls.seq_relationship.weight', 'cls.predictions.transform.LayerNorm.weight', 'cls.predictions.decoder.weight', 'cls.seq_relationship.bias', 'cls.predictions.bias']\n",
      "- This IS expected if you are initializing BertModel from the checkpoint of a model trained on another task or with another architecture (e.g. initializing a BertForSequenceClassification model from a BertForPreTraining model).\n",
      "- This IS NOT expected if you are initializing BertModel from the checkpoint of a model that you expect to be exactly identical (initializing a BertForSequenceClassification model from a BertForSequenceClassification model).\n"
     ]
    }
   ],
   "source": [
    "sparse_ranking_2019 = Ranking.from_file(Path(\"../index/dev/testing/msmarco-passage-test2019-sparse10000.txt\"))\n",
    "sparse_ranking_2019.cut(5000)\n",
    "sparse_ranking_2020 = Ranking.from_file(Path(\"../index/dev/testing/msmarco-passage-test2020-sparse10000.txt\"))\n",
    "sparse_ranking_2020.cut(5000)\n",
    "\n",
    "index = InMemoryIndex.from_disk(\"../index/dev/testing/ffindex_passage_2019_2020.pkl\",encoder=TCTColBERTQueryEncoderFF(\"castorini/tct_colbert-msmarco\"))"
   ]
  },
  {
   "cell_type": "code",
   "execution_count": 17,
   "metadata": {},
   "outputs": [
    {
     "name": "stdout",
     "output_type": "stream",
     "text": [
      "loaded 200 queries\n",
      "custom FFI version\n"
     ]
    },
    {
     "name": "stderr",
     "output_type": "stream",
     "text": [
      "100%|██████████| 54/54 [00:00<00:00, 55.57it/s]\n"
     ]
    },
    {
     "name": "stdout",
     "output_type": "stream",
     "text": [
      "w:  0\n",
      "w:  0.85\n",
      "w:  1\n"
     ]
    }
   ],
   "source": [
    "with open(\n",
    "    \"../index/dev/testing/msmarco-test2020-queries.tsv\",\n",
    "    encoding=\"utf-8\",\n",
    "    newline=\"\"\n",
    ") as fp:\n",
    "    queries = {q_id: q for q_id, q in csv.reader(fp, delimiter=\"\\t\")}\n",
    "print(f\"loaded {len(queries)} queries\")\n",
    "\n",
    "alpha = arange(0,1.01,0.05)\n",
    "eta = range(5,106,5)\n",
    "alpha = [0,0.85,1]\n",
    "eta = [60]\n",
    "result_cc = index.get_scores(\n",
    "    sparse_ranking_2020,\n",
    "    queries,\n",
    "    method = \"CC\",\n",
    "    alpha = alpha,\n",
    "    cutoff=10,\n",
    "    early_stopping=False,\n",
    "    normalize = \"Z\" # None, \"MM\", \"TMM\", \"Z\"\n",
    ")\n",
    "#result_rrf = index.get_scores(\n",
    "#    sparse_ranking_2020,\n",
    "#    queries,\n",
    "#    method = \"RRF\",\n",
    "#    eta = eta,\n",
    "#    cutoff=10,\n",
    "#    early_stopping=False\n",
    "#)"
   ]
  },
  {
   "attachments": {},
   "cell_type": "markdown",
   "metadata": {},
   "source": [
    "### CC - 2020 (test set)"
   ]
  },
  {
   "cell_type": "code",
   "execution_count": 18,
   "metadata": {},
   "outputs": [],
   "source": [
    "qrels = list(read_trec_qrels(\"../index/dev/testing/2020qrels-pass.txt\"))\n",
    "with open(r'2020_test_results_Z.csv','a') as f1: # need \"a\" and not w to append to a file, if not will overwrite\n",
    "    writer=csv.writer(f1, delimiter=',',lineterminator='\\n',)\n",
    "    row = [\"fusion_function\",\"dataset\",\"alpha\",\"AP@10\",\"AP@100\",\"nDCG@10\",\"nDCG@100\"]\n",
    "    writer.writerow(row)\n",
    "    for a in alpha:\n",
    "        f = calc_aggregate([AP(rel=3)@10,AP@100,nDCG@10,nDCG@100], qrels, result_cc[a].run)\n",
    "        row = [\"CC\",\"test2020\",a,f[AP(rel=3)@10],f[AP@100],f[nDCG@10],f[nDCG@100]]\n",
    "        writer.writerow(row)\n"
   ]
  },
  {
   "attachments": {},
   "cell_type": "markdown",
   "metadata": {},
   "source": [
    "### RRF - 2020 (test set)"
   ]
  },
  {
   "cell_type": "code",
   "execution_count": null,
   "metadata": {},
   "outputs": [],
   "source": [
    "\n",
    "with open(r'2020_test_results.csv','a') as f1: # need \"a\" and not w to append to a file, if not will overwrite\n",
    "    writer=csv.writer(f1, delimiter=',',lineterminator='\\n',)\n",
    "    for n in eta:\n",
    "        f = calc_aggregate([AP(rel=3)@10,AP@100,nDCG@10,nDCG@100], qrels, result_rrf[n].run)\n",
    "        row = [\"RRF\",\"test2020\",n,f[AP(rel=3)@10],f[AP@100],f[nDCG@10],f[nDCG@100]]\n",
    "        writer.writerow(row)"
   ]
  }
 ],
 "metadata": {
  "kernelspec": {
   "display_name": "custom_fast_forward",
   "language": "python",
   "name": "python3"
  },
  "language_info": {
   "codemirror_mode": {
    "name": "ipython",
    "version": 3
   },
   "file_extension": ".py",
   "mimetype": "text/x-python",
   "name": "python",
   "nbconvert_exporter": "python",
   "pygments_lexer": "ipython3",
   "version": "3.8.16"
  },
  "orig_nbformat": 4
 },
 "nbformat": 4,
 "nbformat_minor": 2
}

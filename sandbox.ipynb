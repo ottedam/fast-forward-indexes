{
 "cells": [
  {
   "cell_type": "code",
   "execution_count": 19,
   "metadata": {},
   "outputs": [],
   "source": [
    "from pathlib import Path\n",
    "from fast_forward.encoder import TCTColBERTQueryEncoder\n",
    "from fast_forward.index import InMemoryIndex, Mode\n",
    "from fast_forward.ranking import Ranking"
   ]
  },
  {
   "cell_type": "code",
   "execution_count": 24,
   "metadata": {},
   "outputs": [
    {
     "name": "stderr",
     "output_type": "stream",
     "text": [
      "Some weights of the model checkpoint at castorini/tct_colbert-msmarco were not used when initializing BertModel: ['cls.predictions.decoder.weight', 'cls.predictions.transform.LayerNorm.bias', 'cls.predictions.bias', 'cls.predictions.transform.LayerNorm.weight', 'cls.predictions.decoder.bias', 'cls.seq_relationship.bias', 'cls.predictions.transform.dense.weight', 'cls.predictions.transform.dense.bias', 'cls.seq_relationship.weight']\n",
      "- This IS expected if you are initializing BertModel from the checkpoint of a model trained on another task or with another architecture (e.g. initializing a BertForSequenceClassification model from a BertForPreTraining model).\n",
      "- This IS NOT expected if you are initializing BertModel from the checkpoint of a model that you expect to be exactly identical (initializing a BertForSequenceClassification model from a BertForSequenceClassification model).\n"
     ]
    },
    {
     "ename": "UnpicklingError",
     "evalue": "could not find MARK",
     "output_type": "error",
     "traceback": [
      "\u001b[1;31m---------------------------------------------------------------------------\u001b[0m",
      "\u001b[1;31mUnpicklingError\u001b[0m                           Traceback (most recent call last)",
      "\u001b[1;32mc:\\Users\\Revi\\Desktop\\Github\\fast-forward-indexes\\sandbox.ipynb Cell 2\u001b[0m in \u001b[0;36m<cell line: 5>\u001b[1;34m()\u001b[0m\n\u001b[0;32m      <a href='vscode-notebook-cell:/c%3A/Users/Revi/Desktop/Github/fast-forward-indexes/sandbox.ipynb#W1sZmlsZQ%3D%3D?line=1'>2</a>\u001b[0m encoder \u001b[39m=\u001b[39m TCTColBERTQueryEncoder(\u001b[39m\"\u001b[39m\u001b[39mcastorini/tct_colbert-msmarco\u001b[39m\u001b[39m\"\u001b[39m)\n\u001b[0;32m      <a href='vscode-notebook-cell:/c%3A/Users/Revi/Desktop/Github/fast-forward-indexes/sandbox.ipynb#W1sZmlsZQ%3D%3D?line=3'>4</a>\u001b[0m \u001b[39m# load an index from disk into memory\u001b[39;00m\n\u001b[1;32m----> <a href='vscode-notebook-cell:/c%3A/Users/Revi/Desktop/Github/fast-forward-indexes/sandbox.ipynb#W1sZmlsZQ%3D%3D?line=4'>5</a>\u001b[0m index \u001b[39m=\u001b[39m InMemoryIndex\u001b[39m.\u001b[39;49mfrom_disk(Path(\u001b[39mr\u001b[39;49m\u001b[39m\"\u001b[39;49m\u001b[39mC:\u001b[39;49m\u001b[39m\\\u001b[39;49m\u001b[39mUsers\u001b[39;49m\u001b[39m\\\u001b[39;49m\u001b[39mRevi\u001b[39;49m\u001b[39m\\\u001b[39;49m\u001b[39mDesktop\u001b[39;49m\u001b[39m\\\u001b[39;49m\u001b[39mGithub\u001b[39;49m\u001b[39m\\\u001b[39;49m\u001b[39mfast-forward-indexes\u001b[39;49m\u001b[39m\\\u001b[39;49m\u001b[39mindex\u001b[39;49m\u001b[39m\\\u001b[39;49m\u001b[39mdindex-msmarco-doc-tct_colbert-bf-20210112-be7119.tar\u001b[39;49m\u001b[39m\"\u001b[39;49m), encoder, Mode\u001b[39m.\u001b[39;49mMAXP)\n\u001b[0;32m      <a href='vscode-notebook-cell:/c%3A/Users/Revi/Desktop/Github/fast-forward-indexes/sandbox.ipynb#W1sZmlsZQ%3D%3D?line=6'>7</a>\u001b[0m \u001b[39m# load a sparse run (TREC format)\u001b[39;00m\n\u001b[0;32m      <a href='vscode-notebook-cell:/c%3A/Users/Revi/Desktop/Github/fast-forward-indexes/sandbox.ipynb#W1sZmlsZQ%3D%3D?line=7'>8</a>\u001b[0m sparse_ranking \u001b[39m=\u001b[39m Ranking\u001b[39m.\u001b[39mfrom_file(Path(\u001b[39m\"\u001b[39m\u001b[39m/path/to/sparse/run.tsv\u001b[39m\u001b[39m\"\u001b[39m))\n",
      "File \u001b[1;32mc:\\Users\\Revi\\Desktop\\Github\\fast-forward-indexes\\fast_forward\\index.py:497\u001b[0m, in \u001b[0;36mInMemoryIndex.from_disk\u001b[1;34m(cls, index_file, encoder, mode, encoder_batch_size)\u001b[0m\n\u001b[0;32m    495\u001b[0m LOGGER\u001b[39m.\u001b[39minfo(\u001b[39mf\u001b[39m\u001b[39m\"\u001b[39m\u001b[39mreading \u001b[39m\u001b[39m{\u001b[39;00mindex_file\u001b[39m}\u001b[39;00m\u001b[39m\"\u001b[39m)\n\u001b[0;32m    496\u001b[0m \u001b[39mwith\u001b[39;00m \u001b[39mopen\u001b[39m(index_file, \u001b[39m\"\u001b[39m\u001b[39mrb\u001b[39m\u001b[39m\"\u001b[39m) \u001b[39mas\u001b[39;00m fp:\n\u001b[1;32m--> 497\u001b[0m     vectors, doc_ids, psg_ids \u001b[39m=\u001b[39m pickle\u001b[39m.\u001b[39;49mload(fp)\n\u001b[0;32m    499\u001b[0m index \u001b[39m=\u001b[39m \u001b[39mcls\u001b[39m(encoder, mode, encoder_batch_size)\n\u001b[0;32m    500\u001b[0m \u001b[39mif\u001b[39;00m vectors \u001b[39mis\u001b[39;00m \u001b[39mnot\u001b[39;00m \u001b[39mNone\u001b[39;00m:\n",
      "\u001b[1;31mUnpicklingError\u001b[0m: could not find MARK"
     ]
    }
   ],
   "source": [
    "# choose a pre-trained query encoder\n",
    "encoder = TCTColBERTQueryEncoder(\"castorini/tct_colbert-msmarco\")\n",
    "\n",
    "# load an index from disk into memory\n",
    "index = InMemoryIndex.from_disk(Path(r\"C:\\Users\\Revi\\Desktop\\Github\\fast-forward-indexes\\index\\dindex-msmarco-doc-tct_colbert-bf-20210112-be7119.tar\"), encoder, Mode.MAXP)\n",
    "\n",
    "# load a sparse run (TREC format)\n",
    "sparse_ranking = Ranking.from_file(Path(\"/path/to/sparse/run.tsv\"))\n",
    "\n",
    "# load all required queries\n",
    "queries = {\n",
    "    \"q1\": \"query 1\",\n",
    "    \"q2\": \"query 2\",\n",
    "    # ...\n",
    "    \"qn\": \"query n\"\n",
    "}\n",
    "\n",
    "# compute the corresponding dense scores and interpolate\n",
    "alpha = 0.2\n",
    "result = index.get_scores(\n",
    "    sparse_ranking,\n",
    "    queries,\n",
    "    alpha=alpha,\n",
    "    cutoff=10,\n",
    "    early_stopping=True\n",
    ")\n",
    "\n",
    "# create a new TREC runfile with the interpolated ranking\n",
    "result[alpha].save(Path(\"/path/to/interpolated/run.tsv\"))"
   ]
  },
  {
   "cell_type": "code",
   "execution_count": 27,
   "metadata": {},
   "outputs": [
    {
     "ename": "TypeError",
     "evalue": "Wrong number or type of arguments for overloaded function 'read_index'.\n  Possible C/C++ prototypes are:\n    faiss::read_index(char const *,int)\n    faiss::read_index(char const *)\n    faiss::read_index(FILE *,int)\n    faiss::read_index(FILE *)\n    faiss::read_index(faiss::IOReader *,int)\n    faiss::read_index(faiss::IOReader *)\n",
     "output_type": "error",
     "traceback": [
      "\u001b[1;31m---------------------------------------------------------------------------\u001b[0m",
      "\u001b[1;31mTypeError\u001b[0m                                 Traceback (most recent call last)",
      "\u001b[1;32mc:\\Users\\Revi\\Desktop\\Github\\fast-forward-indexes\\sandbox.ipynb Cell 3\u001b[0m in \u001b[0;36m<cell line: 9>\u001b[1;34m()\u001b[0m\n\u001b[0;32m      <a href='vscode-notebook-cell:/c%3A/Users/Revi/Desktop/Github/fast-forward-indexes/sandbox.ipynb#W2sZmlsZQ%3D%3D?line=3'>4</a>\u001b[0m index_file \u001b[39m=\u001b[39m Path(\u001b[39mr\u001b[39m\u001b[39m\"\u001b[39m\u001b[39mC:\u001b[39m\u001b[39m\\\u001b[39m\u001b[39mUsers\u001b[39m\u001b[39m\\\u001b[39m\u001b[39mRevi\u001b[39m\u001b[39m\\\u001b[39m\u001b[39mDesktop\u001b[39m\u001b[39m\\\u001b[39m\u001b[39mGithub\u001b[39m\u001b[39m\\\u001b[39m\u001b[39mfast-forward-indexes\u001b[39m\u001b[39m\\\u001b[39m\u001b[39mindex\u001b[39m\u001b[39m\\\u001b[39m\u001b[39mdindex-msmarco-doc-tct_colbert-bf-20210112-be7119\u001b[39m\u001b[39m\\\u001b[39m\u001b[39mindex\u001b[39m\u001b[39m\"\u001b[39m)\n\u001b[0;32m      <a href='vscode-notebook-cell:/c%3A/Users/Revi/Desktop/Github/fast-forward-indexes/sandbox.ipynb#W2sZmlsZQ%3D%3D?line=5'>6</a>\u001b[0m \u001b[39m#with open(index_file, \"rb\") as fp:\u001b[39;00m\n\u001b[0;32m      <a href='vscode-notebook-cell:/c%3A/Users/Revi/Desktop/Github/fast-forward-indexes/sandbox.ipynb#W2sZmlsZQ%3D%3D?line=6'>7</a>\u001b[0m \u001b[39m#    vectors, doc_ids, psg_ids = pickle.load(fp,encoding=\"UTF-8\")\u001b[39;00m\n\u001b[1;32m----> <a href='vscode-notebook-cell:/c%3A/Users/Revi/Desktop/Github/fast-forward-indexes/sandbox.ipynb#W2sZmlsZQ%3D%3D?line=8'>9</a>\u001b[0m faiss\u001b[39m.\u001b[39;49mread_index(index_file,faiss\u001b[39m.\u001b[39;49mIO_FLAG_ONDISK_SAME_DIR)\n",
      "File \u001b[1;32mc:\\Users\\Revi\\AppData\\Local\\Programs\\Python\\Python310\\lib\\site-packages\\faiss\\swigfaiss.py:9651\u001b[0m, in \u001b[0;36mread_index\u001b[1;34m(*args)\u001b[0m\n\u001b[0;32m   9650\u001b[0m \u001b[39mdef\u001b[39;00m \u001b[39mread_index\u001b[39m(\u001b[39m*\u001b[39margs):\n\u001b[1;32m-> 9651\u001b[0m     \u001b[39mreturn\u001b[39;00m _swigfaiss\u001b[39m.\u001b[39;49mread_index(\u001b[39m*\u001b[39;49margs)\n",
      "\u001b[1;31mTypeError\u001b[0m: Wrong number or type of arguments for overloaded function 'read_index'.\n  Possible C/C++ prototypes are:\n    faiss::read_index(char const *,int)\n    faiss::read_index(char const *)\n    faiss::read_index(FILE *,int)\n    faiss::read_index(FILE *)\n    faiss::read_index(faiss::IOReader *,int)\n    faiss::read_index(faiss::IOReader *)\n"
     ]
    }
   ],
   "source": [
    "import pickle\n",
    "import faiss\n",
    "\n",
    "index_file = Path(r\"C:\\Users\\Revi\\Desktop\\Github\\fast-forward-indexes\\index\\dindex-msmarco-doc-tct_colbert-bf-20210112-be7119\\index\")\n",
    "\n",
    "#with open(index_file, \"rb\") as fp:\n",
    "#    vectors, doc_ids, psg_ids = pickle.load(fp,encoding=\"UTF-8\")\n",
    "    \n",
    "faiss.read_index(index_file,faiss.IO_FLAG_ONDISK_SAME_DIR)"
   ]
  },
  {
   "cell_type": "code",
   "execution_count": null,
   "metadata": {},
   "outputs": [],
   "source": [
    "\n",
    "from pyserini.search.lucene import LuceneSearcher\n",
    "\n",
    "searcher = LuceneSearcher.from_prebuilt_index('robust04')"
   ]
  },
  {
   "attachments": {},
   "cell_type": "markdown",
   "metadata": {},
   "source": [
    "Creating the Fast-Forward Index for MS MARCO from Pyserini\n",
    "\n",
    "https://github.com/castorini/pyserini/blob/master/docs/installation.md\n",
    "\n",
    "https://mrjleo.github.io/fast-forward-indexes/latest/fast_forward.html\n",
    "Examples section\n",
    "\n",
    "In conda run:\n",
    "python -m fast_forward.examples.create_index_from_pyserini msmarco-doc-tct_colbert-bf --out_file my_index\n",
    "\n"
   ]
  }
 ],
 "metadata": {
  "kernelspec": {
   "display_name": "Python 3",
   "language": "python",
   "name": "python3"
  },
  "language_info": {
   "codemirror_mode": {
    "name": "ipython",
    "version": 3
   },
   "file_extension": ".py",
   "mimetype": "text/x-python",
   "name": "python",
   "nbconvert_exporter": "python",
   "pygments_lexer": "ipython3",
   "version": "3.8.16"
  },
  "orig_nbformat": 4
 },
 "nbformat": 4,
 "nbformat_minor": 2
}
